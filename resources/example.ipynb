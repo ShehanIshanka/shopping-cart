{
 "cells": [
  {
   "cell_type": "markdown",
   "metadata": {},
   "source": [
    "# Shopping Cart Restful API"
   ]
  },
  {
   "cell_type": "code",
   "execution_count": 53,
   "metadata": {
    "collapsed": false,
    "jupyter": {
     "outputs_hidden": false
    }
   },
   "outputs": [],
   "source": [
    "import requests\n",
    "import json\n",
    "\n",
    "url = \"http://127.0.0.1:5000/v1/\""
   ]
  },
  {
   "cell_type": "markdown",
   "metadata": {},
   "source": [
    "# Product API"
   ]
  },
  {
   "cell_type": "markdown",
   "metadata": {},
   "source": [
    "## 1. Fetch Products"
   ]
  },
  {
   "cell_type": "code",
   "execution_count": 71,
   "metadata": {},
   "outputs": [
    {
     "name": "stdout",
     "output_type": "stream",
     "text": [
      "{\n",
      "  \"products\": [\n",
      "    {\n",
      "      \"amount\": 15.55,\n",
      "      \"created_time\": \"Mon, 09 Oct 2023 06:54:17 GMT\",\n",
      "      \"description\": \"Test product 1\",\n",
      "      \"id\": \"afb27a89-d164-496e-ae21-73a329d38c95\",\n",
      "      \"last_modified_time\": \"Mon, 09 Oct 2023 06:54:17 GMT\",\n",
      "      \"name\": \"Test product 1\"\n",
      "    },\n",
      "    {\n",
      "      \"amount\": 5.55,\n",
      "      \"created_time\": \"Mon, 09 Oct 2023 06:54:32 GMT\",\n",
      "      \"description\": \"Test product 2\",\n",
      "      \"id\": \"93fa2773-fe76-4cb5-9957-5a6ef5c74834\",\n",
      "      \"last_modified_time\": \"Mon, 09 Oct 2023 06:54:32 GMT\",\n",
      "      \"name\": \"Test product 2\"\n",
      "    }\n",
      "  ]\n",
      "}\n"
     ]
    }
   ],
   "source": [
    "api = f\"{url}/products\"\n",
    "response = requests.request(\"GET\", api, headers={}, data={})\n",
    "print(json.dumps(response.json(), indent=2))"
   ]
  },
  {
   "cell_type": "markdown",
   "metadata": {},
   "source": [
    "## 2. Create a Product"
   ]
  },
  {
   "cell_type": "code",
   "execution_count": 72,
   "metadata": {},
   "outputs": [
    {
     "name": "stdout",
     "output_type": "stream",
     "text": [
      "{\n",
      "  \"id\": \"e3e1729f-c136-4a4d-9a04-6789b16e6c29\"\n",
      "}\n"
     ]
    }
   ],
   "source": [
    "api = f\"{url}/products\"\n",
    "\n",
    "payload = json.dumps({\n",
    "  \"name\": \"Test product\",\n",
    "  \"description\": \"Test product\",\n",
    "  \"amount\": 5.55\n",
    "})\n",
    "headers = { 'Content-Type': 'application/json'}\n",
    "response = requests.request(\"POST\", api, headers=headers, data=payload)\n",
    "print(json.dumps(response.json(), indent=2))\n",
    "\n",
    "product_id = response.json()[\"id\"]"
   ]
  },
  {
   "cell_type": "markdown",
   "metadata": {},
   "source": [
    "## 3. Fetch product by ID"
   ]
  },
  {
   "cell_type": "code",
   "execution_count": 73,
   "metadata": {},
   "outputs": [
    {
     "name": "stdout",
     "output_type": "stream",
     "text": [
      "{\n",
      "  \"product\": {\n",
      "    \"amount\": 5.55,\n",
      "    \"created_time\": \"Mon, 09 Oct 2023 08:15:45 GMT\",\n",
      "    \"description\": \"Test product\",\n",
      "    \"id\": \"e3e1729f-c136-4a4d-9a04-6789b16e6c29\",\n",
      "    \"last_modified_time\": \"Mon, 09 Oct 2023 08:15:45 GMT\",\n",
      "    \"name\": \"Test product\"\n",
      "  }\n",
      "}\n"
     ]
    }
   ],
   "source": [
    "api = f\"{url}/products/{product_id}\"\n",
    "response = requests.request(\"GET\", api, headers={}, data={})\n",
    "print(json.dumps(response.json(), indent=2))"
   ]
  },
  {
   "cell_type": "markdown",
   "metadata": {},
   "source": [
    "## 4. Delete product by ID"
   ]
  },
  {
   "cell_type": "code",
   "execution_count": 75,
   "metadata": {},
   "outputs": [
    {
     "name": "stdout",
     "output_type": "stream",
     "text": [
      "{\n",
      "  \"msg\": \"Success\",\n",
      "  \"status\": 200\n",
      "}\n"
     ]
    }
   ],
   "source": [
    "api = f\"{url}/products/{product_id}\"\n",
    "response = requests.request(\"DELETE\", api, headers={}, data={})\n",
    "print(json.dumps(response.json(), indent=2))"
   ]
  },
  {
   "cell_type": "markdown",
   "metadata": {},
   "source": [
    "# Cart API"
   ]
  },
  {
   "cell_type": "markdown",
   "metadata": {},
   "source": [
    "## 1. Create a cart"
   ]
  },
  {
   "cell_type": "code",
   "execution_count": 78,
   "metadata": {},
   "outputs": [],
   "source": [
    "api = f\"{url}/products\"\n",
    "response = requests.request(\"GET\", api, headers={}, data={})\n",
    "product_ids = [product[\"id\"] for product in response.json()[\"products\"]]"
   ]
  },
  {
   "cell_type": "code",
   "execution_count": 79,
   "metadata": {},
   "outputs": [
    {
     "name": "stdout",
     "output_type": "stream",
     "text": [
      "{\n",
      "  \"created_time\": \"Mon, 09 Oct 2023 08:19:08 GMT\",\n",
      "  \"id\": \"3eefd099-fb21-40f8-9c2e-dea34b75458c\",\n",
      "  \"items\": [\n",
      "    {\n",
      "      \"amount\": 15.55,\n",
      "      \"created_time\": \"Mon, 09 Oct 2023 06:54:17 GMT\",\n",
      "      \"description\": \"Test product 1\",\n",
      "      \"id\": \"afb27a89-d164-496e-ae21-73a329d38c95\",\n",
      "      \"last_modified_time\": \"Mon, 09 Oct 2023 06:54:17 GMT\",\n",
      "      \"name\": \"Test product 1\"\n",
      "    },\n",
      "    {\n",
      "      \"amount\": 5.55,\n",
      "      \"created_time\": \"Mon, 09 Oct 2023 06:54:32 GMT\",\n",
      "      \"description\": \"Test product 2\",\n",
      "      \"id\": \"93fa2773-fe76-4cb5-9957-5a6ef5c74834\",\n",
      "      \"last_modified_time\": \"Mon, 09 Oct 2023 06:54:32 GMT\",\n",
      "      \"name\": \"Test product 2\"\n",
      "    }\n",
      "  ],\n",
      "  \"last_modified_time\": \"Mon, 09 Oct 2023 08:19:08 GMT\",\n",
      "  \"total\": 21.1\n",
      "}\n"
     ]
    }
   ],
   "source": [
    "api = f\"{url}/carts\"\n",
    "\n",
    "payload = json.dumps({ \"product_ids\": product_ids})\n",
    "headers = {'Content-Type': 'application/json'}\n",
    "response = requests.request(\"POST\", api, headers=headers, data=payload)\n",
    "\n",
    "print(json.dumps(response.json(), indent=2))\n",
    "cart_id = response.json()[\"id\"]"
   ]
  },
  {
   "cell_type": "markdown",
   "metadata": {},
   "source": [
    "## 2. Get items from a Cart"
   ]
  },
  {
   "cell_type": "code",
   "execution_count": 80,
   "metadata": {},
   "outputs": [
    {
     "name": "stdout",
     "output_type": "stream",
     "text": [
      "{\n",
      "  \"cart\": {\n",
      "    \"created_time\": \"Mon, 09 Oct 2023 08:19:08 GMT\",\n",
      "    \"id\": \"3eefd099-fb21-40f8-9c2e-dea34b75458c\",\n",
      "    \"items\": [\n",
      "      {\n",
      "        \"amount\": 15.55,\n",
      "        \"created_time\": \"Mon, 09 Oct 2023 06:54:17 GMT\",\n",
      "        \"description\": \"Test product 1\",\n",
      "        \"id\": \"afb27a89-d164-496e-ae21-73a329d38c95\",\n",
      "        \"last_modified_time\": \"Mon, 09 Oct 2023 06:54:17 GMT\",\n",
      "        \"name\": \"Test product 1\"\n",
      "      },\n",
      "      {\n",
      "        \"amount\": 5.55,\n",
      "        \"created_time\": \"Mon, 09 Oct 2023 06:54:32 GMT\",\n",
      "        \"description\": \"Test product 2\",\n",
      "        \"id\": \"93fa2773-fe76-4cb5-9957-5a6ef5c74834\",\n",
      "        \"last_modified_time\": \"Mon, 09 Oct 2023 06:54:32 GMT\",\n",
      "        \"name\": \"Test product 2\"\n",
      "      }\n",
      "    ],\n",
      "    \"last_modified_time\": \"Mon, 09 Oct 2023 08:19:08 GMT\",\n",
      "    \"total\": 21\n",
      "  }\n",
      "}\n"
     ]
    }
   ],
   "source": [
    "api = f\"{url}/carts/{cart_id}/items\"\n",
    "response = requests.request(\"GET\", api, headers={}, data={})\n",
    "print(json.dumps(response.json(), indent=2))"
   ]
  },
  {
   "cell_type": "markdown",
   "metadata": {},
   "source": [
    "## 3. Put Item to a Cart"
   ]
  },
  {
   "cell_type": "code",
   "execution_count": 81,
   "metadata": {},
   "outputs": [],
   "source": [
    "api = f\"{url}/products\"\n",
    "\n",
    "payload = json.dumps({\n",
    "  \"name\": \"Test product\",\n",
    "  \"description\": \"Test product\",\n",
    "  \"amount\": 5.55\n",
    "})\n",
    "headers = { 'Content-Type': 'application/json'}\n",
    "response = requests.request(\"POST\", api, headers=headers, data=payload)\n",
    "product_id = response.json()[\"id\"]"
   ]
  },
  {
   "cell_type": "code",
   "execution_count": 82,
   "metadata": {},
   "outputs": [
    {
     "name": "stdout",
     "output_type": "stream",
     "text": [
      "{\n",
      "  \"cart\": {\n",
      "    \"created_time\": \"Mon, 09 Oct 2023 08:19:08 GMT\",\n",
      "    \"id\": \"3eefd099-fb21-40f8-9c2e-dea34b75458c\",\n",
      "    \"items\": [\n",
      "      {\n",
      "        \"amount\": 15.55,\n",
      "        \"created_time\": \"Mon, 09 Oct 2023 06:54:17 GMT\",\n",
      "        \"description\": \"Test product 1\",\n",
      "        \"id\": \"afb27a89-d164-496e-ae21-73a329d38c95\",\n",
      "        \"last_modified_time\": \"Mon, 09 Oct 2023 06:54:17 GMT\",\n",
      "        \"name\": \"Test product 1\"\n",
      "      },\n",
      "      {\n",
      "        \"amount\": 5.55,\n",
      "        \"created_time\": \"Mon, 09 Oct 2023 06:54:32 GMT\",\n",
      "        \"description\": \"Test product 2\",\n",
      "        \"id\": \"93fa2773-fe76-4cb5-9957-5a6ef5c74834\",\n",
      "        \"last_modified_time\": \"Mon, 09 Oct 2023 06:54:32 GMT\",\n",
      "        \"name\": \"Test product 2\"\n",
      "      },\n",
      "      {\n",
      "        \"amount\": 5.55,\n",
      "        \"created_time\": \"Mon, 09 Oct 2023 08:19:15 GMT\",\n",
      "        \"description\": \"Test product\",\n",
      "        \"id\": \"1b3d1676-2081-4278-94a6-3df924fd79a4\",\n",
      "        \"last_modified_time\": \"Mon, 09 Oct 2023 08:19:15 GMT\",\n",
      "        \"name\": \"Test product\"\n",
      "      }\n",
      "    ],\n",
      "    \"last_modified_time\": \"Mon, 09 Oct 2023 08:19:08 GMT\",\n",
      "    \"total\": 21\n",
      "  }\n",
      "}\n"
     ]
    }
   ],
   "source": [
    "api = f\"{url}/carts/{cart_id}/items/{product_id}\"\n",
    "response = requests.request(\"PUT\", api, headers=headers, data=payload)\n",
    "print(json.dumps(response.json(), indent=2))"
   ]
  },
  {
   "cell_type": "markdown",
   "metadata": {},
   "source": [
    "## 4. Remove Item from a Cart"
   ]
  },
  {
   "cell_type": "code",
   "execution_count": 83,
   "metadata": {},
   "outputs": [
    {
     "name": "stdout",
     "output_type": "stream",
     "text": [
      "{\n",
      "  \"msg\": \"Success\",\n",
      "  \"status\": 200\n",
      "}\n"
     ]
    }
   ],
   "source": [
    "api = f\"{url}/carts/{cart_id}/items/{product_id}\"\n",
    "response = requests.request(\"DELETE\", api, headers=headers, data=payload)\n",
    "print(json.dumps(response.json(), indent=2))"
   ]
  },
  {
   "cell_type": "markdown",
   "metadata": {},
   "source": [
    "## 5. Checkout a Cart"
   ]
  },
  {
   "cell_type": "code",
   "execution_count": 84,
   "metadata": {},
   "outputs": [
    {
     "name": "stdout",
     "output_type": "stream",
     "text": [
      "{\n",
      "  \"order\": {\n",
      "    \"created_time\": \"Mon, 09 Oct 2023 08:19:22 GMT\",\n",
      "    \"delivery_time\": \"Thu, 15 May 2025 16:12:09 GMT\",\n",
      "    \"id\": \"3eefd099-fb21-40f8-9c2e-dea34b75458c\",\n",
      "    \"items\": [\n",
      "      {\n",
      "        \"amount\": 15.55,\n",
      "        \"created_time\": \"Mon, 09 Oct 2023 06:54:17 GMT\",\n",
      "        \"description\": \"Test product 1\",\n",
      "        \"id\": \"afb27a89-d164-496e-ae21-73a329d38c95\",\n",
      "        \"last_modified_time\": \"Mon, 09 Oct 2023 06:54:17 GMT\",\n",
      "        \"name\": \"Test product 1\"\n",
      "      },\n",
      "      {\n",
      "        \"amount\": 5.55,\n",
      "        \"created_time\": \"Mon, 09 Oct 2023 06:54:32 GMT\",\n",
      "        \"description\": \"Test product 2\",\n",
      "        \"id\": \"93fa2773-fe76-4cb5-9957-5a6ef5c74834\",\n",
      "        \"last_modified_time\": \"Mon, 09 Oct 2023 06:54:32 GMT\",\n",
      "        \"name\": \"Test product 2\"\n",
      "      }\n",
      "    ],\n",
      "    \"total\": 21\n",
      "  }\n",
      "}\n"
     ]
    }
   ],
   "source": [
    "api = f\"{url}/carts/{cart_id}/checkout\"\n",
    "payload = json.dumps({ \"delivery_time\": \"2025-05-15 16:12:09\"})\n",
    "headers = { 'Content-Type': 'application/json'}\n",
    "response = requests.request(\"POST\", api, headers=headers, data=payload)\n",
    "print(json.dumps(response.json(), indent=2))"
   ]
  }
 ],
 "metadata": {
  "kernelspec": {
   "display_name": "Python 3 (ipykernel)",
   "language": "python",
   "name": "python3"
  },
  "language_info": {
   "codemirror_mode": {
    "name": "ipython",
    "version": 3
   },
   "file_extension": ".py",
   "mimetype": "text/x-python",
   "name": "python",
   "nbconvert_exporter": "python",
   "pygments_lexer": "ipython3",
   "version": "3.10.1"
  }
 },
 "nbformat": 4,
 "nbformat_minor": 4
}
